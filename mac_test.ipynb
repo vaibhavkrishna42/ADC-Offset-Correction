{
 "cells": [
  {
   "cell_type": "markdown",
   "metadata": {},
   "source": [
    "# Convolution through MAC computation"
   ]
  },
  {
   "cell_type": "code",
   "execution_count": 1,
   "metadata": {},
   "outputs": [],
   "source": [
    "import numpy as np\n",
    "import torch\n",
    "import torch.nn.functional as F"
   ]
  },
  {
   "cell_type": "markdown",
   "metadata": {},
   "source": [
    "### Quantize Tensor"
   ]
  },
  {
   "cell_type": "code",
   "execution_count": 2,
   "metadata": {},
   "outputs": [],
   "source": [
    "def convert_tensor_to_binary(tensor, num_bits, mode='signed'):\n",
    "\n",
    "    if mode == 'unsigned':\n",
    "        qmin = 0\n",
    "        qmax = 2**num_bits - 1\n",
    "    else:\n",
    "        qmin = -2**(num_bits - 1)\n",
    "        qmax = 2**(num_bits - 1) - 1\n",
    "\n",
    "    if tensor.abs().max() > tensor.max():\n",
    "        scale = (-qmin)/tensor.abs().max()\n",
    "    else:\n",
    "        scale = (qmax)/tensor.max()\n",
    "    \n",
    "    if mode == 'unsigned':\n",
    "        tensor_q = (tensor*scale).round().clamp(min=0, max=2**(num_bits)-1).to(torch.int32)\n",
    "    else:\n",
    "        tensor_q = (tensor*scale).round().clamp(min=-2**(num_bits-1), max=2**(num_bits-1)-1).to(torch.int32)\n",
    "\n",
    "    return tensor_q, scale"
   ]
  },
  {
   "cell_type": "markdown",
   "metadata": {},
   "source": [
    "### Convert tensor to binary and quantize to bits"
   ]
  },
  {
   "cell_type": "code",
   "execution_count": 7,
   "metadata": {},
   "outputs": [],
   "source": [
    "def to_binary(x, bits):\n",
    "        if x < 0:\n",
    "            # Compute two's complement for negative numbers\n",
    "            x = (1 << (bits)) + x\n",
    "        return format(x, f'0{bits}b')\n",
    "\n",
    "def binary_to_bits(arr, axis=1):\n",
    "    # Calculate the total number of bits\n",
    "    num_rows, num_cols = arr.shape\n",
    "    bit_length = len(arr[0, 0])\n",
    "    \n",
    "    if axis == 1:\n",
    "        # Place bits in new columns\n",
    "        result = np.zeros((num_rows, num_cols * bit_length), dtype=int)\n",
    "        for i in range(num_rows):\n",
    "            for j in range(num_cols):\n",
    "                bits = list(map(int, arr[i, j]))\n",
    "                result[i, j * bit_length:(j + 1) * bit_length] = bits\n",
    "\n",
    "    elif axis == 0:\n",
    "        # Place bits in new rows\n",
    "        result = np.zeros((num_rows * bit_length, num_cols), dtype=int)\n",
    "        for i in range(num_rows):\n",
    "            for j in range(num_cols):\n",
    "                bits = list(map(int, arr[i, j]))\n",
    "                result[i * bit_length:(i + 1) * bit_length, j] = bits\n",
    "    else:\n",
    "        raise ValueError(\"axis must be either 0 (bits in rows) or 1 (bits in columns)\")\n",
    "    \n",
    "    return result\n",
    "\n",
    "vectorized_to_binary = np.vectorize(to_binary)"
   ]
  },
  {
   "cell_type": "code",
   "execution_count": 59,
   "metadata": {},
   "outputs": [],
   "source": [
    "# Load weight and input tensors\n",
    "resnet_weight = torch.load('big_weight.pth')\n",
    "resnet_inp = torch.load('big_input.pth')"
   ]
  },
  {
   "cell_type": "code",
   "execution_count": 60,
   "metadata": {},
   "outputs": [],
   "source": [
    "w_q, scale_w = convert_tensor_to_binary(resnet_weight, 8)\n",
    "x_q, scale_x = convert_tensor_to_binary(resnet_inp, 6)\n",
    "\n",
    "input = x_q.cpu().detach().numpy()  # (N, C, H, W)\n",
    "filters = w_q.cpu().detach().numpy()  # (F, C, filter_h, filter_w)\n",
    "\n",
    "input_binary = vectorized_to_binary(input, 6)\n",
    "weight_binary = vectorized_to_binary(filters, 8)"
   ]
  },
  {
   "cell_type": "code",
   "execution_count": 40,
   "metadata": {},
   "outputs": [
    {
     "name": "stdout",
     "output_type": "stream",
     "text": [
      "4\n",
      "000100\n"
     ]
    }
   ],
   "source": [
    "print(input[0][0][0][0])\n",
    "print(input_binary[0][0][0][0]) # String"
   ]
  },
  {
   "cell_type": "markdown",
   "metadata": {},
   "source": [
    "### Numpy Conv2D"
   ]
  },
  {
   "cell_type": "code",
   "execution_count": 61,
   "metadata": {},
   "outputs": [],
   "source": [
    "def im2col(input, filter_h, filter_w, x_bits, w_bits, stride=1, padding=0):\n",
    "    N, C, H, W = input.shape\n",
    "    out_h = (H + 2 * padding - filter_h) // stride + 1\n",
    "    out_w = (W + 2 * padding - filter_w) // stride + 1\n",
    "\n",
    "    img = np.pad(input, [(0, 0), (0, 0), (padding, padding), (padding, padding)], 'constant',constant_values='0'*x_bits)\n",
    "    col = np.full((N, C, filter_h, filter_w, out_h, out_w),'0'*x_bits)\n",
    "\n",
    "    for y in range(filter_h):\n",
    "        y_max = y + stride * out_h\n",
    "        for x in range(filter_w):\n",
    "            x_max = x + stride * out_w\n",
    "            col[:, :, y, x, :, :] = img[:, :, y:y_max:stride, x:x_max:stride]\n",
    "\n",
    "    col = col.transpose(0, 4, 5, 1, 2, 3).reshape(N * out_h * out_w, -1)\n",
    "    return col\n",
    "\n",
    "def conv2d(input, filters, bias=None, stride=1, padding=0):\n",
    "    N, C, H, W = input.shape\n",
    "    F, _, filter_h, filter_w = filters.shape\n",
    "\n",
    "    # Calculate output dimensions\n",
    "    out_h = (H + 2 * padding - filter_h) // stride + 1\n",
    "    out_w = (W + 2 * padding - filter_w) // stride + 1\n",
    "\n",
    "    # Reshape input and filters\n",
    "    col = im2col(input, filter_h, filter_w, 6, 8, stride, padding) # Change number of bits of input quantization \n",
    "    filters_col = filters.reshape(F, -1).T\n",
    "\n",
    "    col_bin = binary_to_bits(col, axis=0)\n",
    "    filters_bin = binary_to_bits(filters_col, axis=1)\n",
    "    \n",
    "    # Perform matrix multiplication\n",
    "    out = np.dot(col_bin, filters_bin)\n",
    "    if bias is not None:\n",
    "        out += bias\n",
    "\n",
    "    # Reshape the output\n",
    "    # out = out.reshape(N, out_h, out_w, F).transpose(0, 3, 1, 2)\n",
    "    conv_dims = (N, out_h, out_w, F)\n",
    "    return out, conv_dims"
   ]
  },
  {
   "cell_type": "code",
   "execution_count": 62,
   "metadata": {},
   "outputs": [
    {
     "name": "stdout",
     "output_type": "stream",
     "text": [
      "[[ 0  0  0 ...  0  0  0]\n",
      " [ 0  0  0 ...  0  0  0]\n",
      " [ 0  0  0 ...  0  0  0]\n",
      " ...\n",
      " [34 34 30 ... 30 24 30]\n",
      " [45 45 41 ... 33 35 34]\n",
      " [41 41 40 ... 32 30 28]] (216, 2048) 383\n"
     ]
    }
   ],
   "source": [
    "output, conv_dims = conv2d(input_binary, weight_binary, bias=None, stride=2, padding=3)\n",
    "print(output,output.shape,np.max(output))"
   ]
  },
  {
   "cell_type": "code",
   "execution_count": 26,
   "metadata": {},
   "outputs": [],
   "source": [
    "def break_array_to_subarrays(array, x, y):\n",
    "    # Check if the array can be evenly divided into sub-arrays of shape (x, y)\n",
    "    assert array.shape[0] % x == 0, \"The array cannot be evenly divided along the x dimension.\"\n",
    "    assert array.shape[1] % y == 0, \"The array cannot be evenly divided along the y dimension.\"\n",
    "    \n",
    "    # Calculate the number of sub-arrays in each dimension\n",
    "    num_sub_arrays_x = array.shape[0] // x\n",
    "    num_sub_arrays_y = array.shape[1] // y\n",
    "    \n",
    "    # Initialize an empty object array to hold the condensed values\n",
    "    condensed_values = np.empty((num_sub_arrays_x, num_sub_arrays_y))\n",
    "    \n",
    "    # Loop through the array and process sub-arrays\n",
    "    for i in range(num_sub_arrays_x):\n",
    "        for j in range(num_sub_arrays_y):\n",
    "            sub_array = array[i*x:(i+1)*x, j*y:(j+1)*y]\n",
    "            condensed_value = 0\n",
    "            for sub_i in range(sub_array.shape[0]):\n",
    "                for sub_j in range(sub_array.shape[1]):\n",
    "                    if (sub_i==0 and sub_j!=0) or (sub_i!=0 and sub_j==0):\n",
    "                        condensed_value -= sub_array[sub_i, sub_j] * 2**((x + y - 2) - (sub_i + sub_j))\n",
    "                    else:\n",
    "                        condensed_value += sub_array[sub_i, sub_j] * 2**((x + y - 2) - (sub_i + sub_j))\n",
    "\n",
    "            condensed_values[i, j] = condensed_value\n",
    "    \n",
    "    return condensed_values"
   ]
  },
  {
   "cell_type": "code",
   "execution_count": 70,
   "metadata": {},
   "outputs": [
    {
     "name": "stdout",
     "output_type": "stream",
     "text": [
      "(1, 256, 6, 6)\n",
      "torch.Size([1, 256, 6, 6])\n"
     ]
    }
   ],
   "source": [
    "res = break_array_to_subarrays(output, 6, 8)\n",
    "# print(res.shape)\n",
    "\n",
    "N, out_h, out_w, F = conv_dims\n",
    "conv_out_np = res.reshape(N, out_h, out_w, F).transpose(0, 3, 1, 2)\n",
    "conv_out_np = conv_out_np/(scale_w*scale_x).item()\n",
    "\n",
    "print(conv_out_np.shape)\n",
    "print(nn_out.shape)"
   ]
  },
  {
   "cell_type": "code",
   "execution_count": 71,
   "metadata": {},
   "outputs": [
    {
     "name": "stdout",
     "output_type": "stream",
     "text": [
      "[[  0.           0.           0.           0.           0.\n",
      "    0.        ]\n",
      " [  0.           0.19483234  -7.86379697  -6.2793628   -3.97094076\n",
      "   -6.84035863]\n",
      " [  0.           3.0953324  -12.05913606 -10.19723639  -3.28485802\n",
      "  -10.49971927]\n",
      " [  0.           2.43426705 -12.83164249 -11.63156627  -4.3803161\n",
      "  -10.904546  ]\n",
      " [  0.          -0.02198497 -16.83821407 -15.07410961  -7.90928312\n",
      "  -11.04706926]\n",
      " [  0.           5.89955346  -1.99835812  -2.48657612  -0.66258156\n",
      "   -5.22787467]]\n"
     ]
    }
   ],
   "source": [
    "print(conv_out_np[0][0])"
   ]
  },
  {
   "cell_type": "code",
   "execution_count": 73,
   "metadata": {},
   "outputs": [],
   "source": [
    "conv_out_tens = torch.from_numpy(conv_out_np)\n",
    "# print(conv_out_tens)"
   ]
  }
 ],
 "metadata": {
  "kernelspec": {
   "display_name": "Python 3",
   "language": "python",
   "name": "python3"
  },
  "language_info": {
   "codemirror_mode": {
    "name": "ipython",
    "version": 3
   },
   "file_extension": ".py",
   "mimetype": "text/x-python",
   "name": "python",
   "nbconvert_exporter": "python",
   "pygments_lexer": "ipython3",
   "version": "3.12.4"
  }
 },
 "nbformat": 4,
 "nbformat_minor": 2
}
